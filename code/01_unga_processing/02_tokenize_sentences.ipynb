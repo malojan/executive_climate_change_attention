{
 "cells": [
  {
   "cell_type": "markdown",
   "metadata": {},
   "source": [
    "This notebook is used to tokenized by sentences the UNGA corpus combined frow the raw texts files downloaded from the UNGA website. "
   ]
  },
  {
   "cell_type": "code",
   "execution_count": 1,
   "metadata": {},
   "outputs": [
    {
     "name": "stderr",
     "output_type": "stream",
     "text": [
      "[nltk_data] Downloading package punkt to /Users/malo/nltk_data...\n",
      "[nltk_data]   Package punkt is already up-to-date!\n"
     ]
    },
    {
     "data": {
      "text/plain": [
       "True"
      ]
     },
     "execution_count": 1,
     "metadata": {},
     "output_type": "execute_result"
    }
   ],
   "source": [
    "import pandas as pd # For importing data\n",
    "import os # For file manipulation\n",
    "\n",
    "import nltk # For tokenization\n",
    "from nltk.tokenize import sent_tokenize\n",
    "nltk.download('punkt') # Download the Punkt tokenizer for sentence tokenization"
   ]
  },
  {
   "cell_type": "markdown",
   "metadata": {},
   "source": [
    "#### Set up"
   ]
  },
  {
   "cell_type": "code",
   "execution_count": 2,
   "metadata": {},
   "outputs": [
    {
     "data": {
      "text/plain": [
       "'/Users/malo/Library/CloudStorage/GoogleDrive-malo.jan@sciencespo.fr/.shortcut-targets-by-id/17Ie9FRNLITIRVq7pV8zYiq6P5Op2F6Lu/edf_un_climate'"
      ]
     },
     "execution_count": 2,
     "metadata": {},
     "output_type": "execute_result"
    }
   ],
   "source": [
    "# Get the current working directory\n",
    "current_directory = os.getcwd()\n",
    "\n",
    "# Define the relative path to 'edf_un_climate'\n",
    "relative_path = \"../../\"\n",
    "\n",
    "# Construct the absolute path\n",
    "absolute_path = os.path.abspath(os.path.join(current_directory, relative_path))\n",
    "\n",
    "absolute_path"
   ]
  },
  {
   "cell_type": "markdown",
   "metadata": {},
   "source": [
    "#### Import the data"
   ]
  },
  {
   "cell_type": "code",
   "execution_count": 3,
   "metadata": {},
   "outputs": [],
   "source": [
    "# Import data\n",
    "\n",
    "un = pd.read_parquet(absolute_path + \"/data/un_speeches.parquet\", engine='pyarrow')"
   ]
  },
  {
   "cell_type": "markdown",
   "metadata": {},
   "source": [
    "#### Sentence tokenization"
   ]
  },
  {
   "cell_type": "code",
   "execution_count": 4,
   "metadata": {},
   "outputs": [
    {
     "name": "stdout",
     "output_type": "stream",
     "text": [
      "Number of sentences: 1319421\n"
     ]
    },
    {
     "data": {
      "text/html": [
       "<div>\n",
       "<style scoped>\n",
       "    .dataframe tbody tr th:only-of-type {\n",
       "        vertical-align: middle;\n",
       "    }\n",
       "\n",
       "    .dataframe tbody tr th {\n",
       "        vertical-align: top;\n",
       "    }\n",
       "\n",
       "    .dataframe thead th {\n",
       "        text-align: right;\n",
       "    }\n",
       "</style>\n",
       "<table border=\"1\" class=\"dataframe\">\n",
       "  <thead>\n",
       "    <tr style=\"text-align: right;\">\n",
       "      <th></th>\n",
       "      <th>doc_id</th>\n",
       "      <th>text</th>\n",
       "      <th>year</th>\n",
       "      <th>iso_code</th>\n",
       "      <th>session</th>\n",
       "      <th>country</th>\n",
       "      <th>name_of_person_speaking</th>\n",
       "      <th>post</th>\n",
       "    </tr>\n",
       "  </thead>\n",
       "  <tbody>\n",
       "    <tr>\n",
       "      <th>0</th>\n",
       "      <td>ARG_01_1946.txt</td>\n",
       "      <td>At the resumption of the first session of the ...</td>\n",
       "      <td>1946.0</td>\n",
       "      <td>ARG</td>\n",
       "      <td>1.0</td>\n",
       "      <td>Argentina</td>\n",
       "      <td>Mr. Arce</td>\n",
       "      <td>None</td>\n",
       "    </tr>\n",
       "    <tr>\n",
       "      <th>1</th>\n",
       "      <td>ARG_01_1946.txt</td>\n",
       "      <td>Politics are determined by circumstances.</td>\n",
       "      <td>1946.0</td>\n",
       "      <td>ARG</td>\n",
       "      <td>1.0</td>\n",
       "      <td>Argentina</td>\n",
       "      <td>Mr. Arce</td>\n",
       "      <td>None</td>\n",
       "    </tr>\n",
       "    <tr>\n",
       "      <th>2</th>\n",
       "      <td>ARG_01_1946.txt</td>\n",
       "      <td>Accordingly, in making these remarks, we do no...</td>\n",
       "      <td>1946.0</td>\n",
       "      <td>ARG</td>\n",
       "      <td>1.0</td>\n",
       "      <td>Argentina</td>\n",
       "      <td>Mr. Arce</td>\n",
       "      <td>None</td>\n",
       "    </tr>\n",
       "    <tr>\n",
       "      <th>3</th>\n",
       "      <td>ARG_01_1946.txt</td>\n",
       "      <td>We hope that these remarks will be interpreted...</td>\n",
       "      <td>1946.0</td>\n",
       "      <td>ARG</td>\n",
       "      <td>1.0</td>\n",
       "      <td>Argentina</td>\n",
       "      <td>Mr. Arce</td>\n",
       "      <td>None</td>\n",
       "    </tr>\n",
       "    <tr>\n",
       "      <th>4</th>\n",
       "      <td>ARG_01_1946.txt</td>\n",
       "      <td>We are not sceptics, but our relative optimism...</td>\n",
       "      <td>1946.0</td>\n",
       "      <td>ARG</td>\n",
       "      <td>1.0</td>\n",
       "      <td>Argentina</td>\n",
       "      <td>Mr. Arce</td>\n",
       "      <td>None</td>\n",
       "    </tr>\n",
       "  </tbody>\n",
       "</table>\n",
       "</div>"
      ],
      "text/plain": [
       "            doc_id                                               text    year  \\\n",
       "0  ARG_01_1946.txt  At the resumption of the first session of the ...  1946.0   \n",
       "1  ARG_01_1946.txt          Politics are determined by circumstances.  1946.0   \n",
       "2  ARG_01_1946.txt  Accordingly, in making these remarks, we do no...  1946.0   \n",
       "3  ARG_01_1946.txt  We hope that these remarks will be interpreted...  1946.0   \n",
       "4  ARG_01_1946.txt  We are not sceptics, but our relative optimism...  1946.0   \n",
       "\n",
       "  iso_code  session    country name_of_person_speaking  post  \n",
       "0      ARG      1.0  Argentina                Mr. Arce  None  \n",
       "1      ARG      1.0  Argentina                Mr. Arce  None  \n",
       "2      ARG      1.0  Argentina                Mr. Arce  None  \n",
       "3      ARG      1.0  Argentina                Mr. Arce  None  \n",
       "4      ARG      1.0  Argentina                Mr. Arce  None  "
      ]
     },
     "execution_count": 4,
     "metadata": {},
     "output_type": "execute_result"
    }
   ],
   "source": [
    "# Tokenization at the sentences level\n",
    "\n",
    "# Split df text column into sentences tokens. Each row should be a token\n",
    "un['text'] = un.text.apply(sent_tokenize)\n",
    "un = un.explode('text')\n",
    "un = un.reset_index(drop=True)\n",
    "\n",
    "# Print the number of sentences\n",
    "\n",
    "print('Number of sentences:', len(un))\n",
    "\n",
    "un.head()"
   ]
  },
  {
   "cell_type": "code",
   "execution_count": 5,
   "metadata": {},
   "outputs": [
    {
     "data": {
      "text/html": [
       "<div>\n",
       "<style scoped>\n",
       "    .dataframe tbody tr th:only-of-type {\n",
       "        vertical-align: middle;\n",
       "    }\n",
       "\n",
       "    .dataframe tbody tr th {\n",
       "        vertical-align: top;\n",
       "    }\n",
       "\n",
       "    .dataframe thead th {\n",
       "        text-align: right;\n",
       "    }\n",
       "</style>\n",
       "<table border=\"1\" class=\"dataframe\">\n",
       "  <thead>\n",
       "    <tr style=\"text-align: right;\">\n",
       "      <th></th>\n",
       "      <th>doc_id</th>\n",
       "      <th>text</th>\n",
       "      <th>year</th>\n",
       "      <th>iso_code</th>\n",
       "      <th>session</th>\n",
       "      <th>country</th>\n",
       "      <th>name_of_person_speaking</th>\n",
       "      <th>post</th>\n",
       "      <th>text_id</th>\n",
       "      <th>id</th>\n",
       "    </tr>\n",
       "  </thead>\n",
       "  <tbody>\n",
       "    <tr>\n",
       "      <th>0</th>\n",
       "      <td>ARG_01_1946.txt</td>\n",
       "      <td>At the resumption of the first session of the ...</td>\n",
       "      <td>1946.0</td>\n",
       "      <td>ARG</td>\n",
       "      <td>1.0</td>\n",
       "      <td>Argentina</td>\n",
       "      <td>Mr. Arce</td>\n",
       "      <td>None</td>\n",
       "      <td>0</td>\n",
       "      <td>ARG_01_1946.txt_0</td>\n",
       "    </tr>\n",
       "    <tr>\n",
       "      <th>1</th>\n",
       "      <td>ARG_01_1946.txt</td>\n",
       "      <td>Politics are determined by circumstances.</td>\n",
       "      <td>1946.0</td>\n",
       "      <td>ARG</td>\n",
       "      <td>1.0</td>\n",
       "      <td>Argentina</td>\n",
       "      <td>Mr. Arce</td>\n",
       "      <td>None</td>\n",
       "      <td>1</td>\n",
       "      <td>ARG_01_1946.txt_1</td>\n",
       "    </tr>\n",
       "    <tr>\n",
       "      <th>2</th>\n",
       "      <td>ARG_01_1946.txt</td>\n",
       "      <td>Accordingly, in making these remarks, we do no...</td>\n",
       "      <td>1946.0</td>\n",
       "      <td>ARG</td>\n",
       "      <td>1.0</td>\n",
       "      <td>Argentina</td>\n",
       "      <td>Mr. Arce</td>\n",
       "      <td>None</td>\n",
       "      <td>2</td>\n",
       "      <td>ARG_01_1946.txt_2</td>\n",
       "    </tr>\n",
       "    <tr>\n",
       "      <th>3</th>\n",
       "      <td>ARG_01_1946.txt</td>\n",
       "      <td>We hope that these remarks will be interpreted...</td>\n",
       "      <td>1946.0</td>\n",
       "      <td>ARG</td>\n",
       "      <td>1.0</td>\n",
       "      <td>Argentina</td>\n",
       "      <td>Mr. Arce</td>\n",
       "      <td>None</td>\n",
       "      <td>3</td>\n",
       "      <td>ARG_01_1946.txt_3</td>\n",
       "    </tr>\n",
       "    <tr>\n",
       "      <th>4</th>\n",
       "      <td>ARG_01_1946.txt</td>\n",
       "      <td>We are not sceptics, but our relative optimism...</td>\n",
       "      <td>1946.0</td>\n",
       "      <td>ARG</td>\n",
       "      <td>1.0</td>\n",
       "      <td>Argentina</td>\n",
       "      <td>Mr. Arce</td>\n",
       "      <td>None</td>\n",
       "      <td>4</td>\n",
       "      <td>ARG_01_1946.txt_4</td>\n",
       "    </tr>\n",
       "  </tbody>\n",
       "</table>\n",
       "</div>"
      ],
      "text/plain": [
       "            doc_id                                               text    year  \\\n",
       "0  ARG_01_1946.txt  At the resumption of the first session of the ...  1946.0   \n",
       "1  ARG_01_1946.txt          Politics are determined by circumstances.  1946.0   \n",
       "2  ARG_01_1946.txt  Accordingly, in making these remarks, we do no...  1946.0   \n",
       "3  ARG_01_1946.txt  We hope that these remarks will be interpreted...  1946.0   \n",
       "4  ARG_01_1946.txt  We are not sceptics, but our relative optimism...  1946.0   \n",
       "\n",
       "  iso_code  session    country name_of_person_speaking  post  text_id  \\\n",
       "0      ARG      1.0  Argentina                Mr. Arce  None        0   \n",
       "1      ARG      1.0  Argentina                Mr. Arce  None        1   \n",
       "2      ARG      1.0  Argentina                Mr. Arce  None        2   \n",
       "3      ARG      1.0  Argentina                Mr. Arce  None        3   \n",
       "4      ARG      1.0  Argentina                Mr. Arce  None        4   \n",
       "\n",
       "                  id  \n",
       "0  ARG_01_1946.txt_0  \n",
       "1  ARG_01_1946.txt_1  \n",
       "2  ARG_01_1946.txt_2  \n",
       "3  ARG_01_1946.txt_3  \n",
       "4  ARG_01_1946.txt_4  "
      ]
     },
     "execution_count": 5,
     "metadata": {},
     "output_type": "execute_result"
    }
   ],
   "source": [
    "# Add text id column : should start at each beginning of doc_id\n",
    "un['text_id'] = un.groupby('doc_id').cumcount()\n",
    "\n",
    "# Create an unique id for each text based on doc_id and text_id\n",
    "un['id'] = un.doc_id.astype(str) + '_' + un.text_id.astype(str)\n",
    "\n",
    "un.head()"
   ]
  },
  {
   "cell_type": "code",
   "execution_count": 6,
   "metadata": {},
   "outputs": [],
   "source": [
    "# Function to count words in a cell\n",
    "def count_words(cell):\n",
    "    # Split the cell into words using space as a delimiter and count the number of words\n",
    "    words = cell.split()\n",
    "    return len(words)\n",
    "\n",
    "# Apply the count_words function to each cell in the Series and create a new variable\n",
    "un['word_count'] = un['text'].apply(count_words)\n",
    "un_less = un[un.word_count < 3]"
   ]
  },
  {
   "cell_type": "code",
   "execution_count": 7,
   "metadata": {},
   "outputs": [
    {
     "name": "stdout",
     "output_type": "stream",
     "text": [
      "Number of text with more than 512 words: 0\n"
     ]
    },
    {
     "data": {
      "image/png": "[encoded data removed]",
      "text/plain": [
       "<Figure size 640x480 with 1 Axes>"
      ]
     },
     "metadata": {},
     "output_type": "display_data"
    }
   ],
   "source": [
    "# Look at the word distribution visually\n",
    "\n",
    "import matplotlib.pyplot as plt\n",
    "\n",
    "# Plot the distribution of word counts without showing the array\n",
    "\n",
    "plt.hist(un.word_count, bins=100)\n",
    "\n",
    "# Count the number of text that has word_count > 512\n",
    "\n",
    "print('Number of text with more than 512 words:', len(un[un.word_count > 512]))"
   ]
  },
  {
   "cell_type": "code",
   "execution_count": 9,
   "metadata": {},
   "outputs": [],
   "source": [
    "# Save the tokenized data\n",
    "\n",
    "un.to_parquet(absolute_path + '/data/un_speeches_tokenized.parquet', engine='pyarrow')"
   ]
  }
 ],
 "metadata": {
  "kernelspec": {
   "display_name": "un_climate",
   "language": "python",
   "name": "python3"
  },
  "language_info": {
   "codemirror_mode": {
    "name": "ipython",
    "version": 3
   },
   "file_extension": ".py",
   "mimetype": "text/x-python",
   "name": "python",
   "nbconvert_exporter": "python",
   "pygments_lexer": "ipython3",
   "version": "3.10.13"
  }
 },
 "nbformat": 4,
 "nbformat_minor": 2
}
